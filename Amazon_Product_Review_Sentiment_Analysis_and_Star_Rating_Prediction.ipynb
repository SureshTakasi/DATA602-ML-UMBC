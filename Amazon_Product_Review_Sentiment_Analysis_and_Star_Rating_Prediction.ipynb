{
  "nbformat": 4,
  "nbformat_minor": 0,
  "metadata": {
    "colab": {
      "name": "Amazon Product Review: Sentiment Analysis and Star Rating Prediction.ipynb",
      "provenance": [],
      "include_colab_link": true
    },
    "kernelspec": {
      "name": "python3",
      "display_name": "Python 3"
    }
  },
  "cells": [
    {
      "cell_type": "markdown",
      "metadata": {
        "id": "view-in-github",
        "colab_type": "text"
      },
      "source": [
        "<a href=\"https://colab.research.google.com/github/SureshTakasi/DATA602-ML-UMBC/blob/main/Amazon_Product_Review_Sentiment_Analysis_and_Star_Rating_Prediction.ipynb\" target=\"_parent\"><img src=\"https://colab.research.google.com/assets/colab-badge.svg\" alt=\"Open In Colab\"/></a>"
      ]
    },
    {
      "cell_type": "markdown",
      "metadata": {
        "id": "g3P0ngGlrQkY"
      },
      "source": [
        "Import libraries"
      ]
    },
    {
      "cell_type": "code",
      "metadata": {
        "id": "WI35Gkz4ydxv"
      },
      "source": [
        "import pandas as pd\n",
        "import matplotlib.pyplot as plt\n",
        "import numpy as np\n",
        "import time\n",
        "import sys\n",
        "import os\n",
        "import gzip\n",
        "\n",
        "\"\"\"\n",
        "We will ignore FutureWarning and DeprecationWarning\n",
        "\"\"\"\n",
        "import warnings\n",
        "warnings.filterwarnings(\"ignore\", category=FutureWarning)\n",
        "warnings.filterwarnings(\"ignore\", category=DeprecationWarning)\n",
        "\n",
        "\"\"\"\n",
        "We will ignore warnings\n",
        "\"\"\"\n",
        "warnings.filterwarnings(\"ignore\")\n",
        "\n",
        "if not sys.warnoptions:\n",
        "    warnings.simplefilter(\"ignore\")\n",
        "program_start_time=time.time()"
      ],
      "execution_count": 14,
      "outputs": []
    },
    {
      "cell_type": "markdown",
      "metadata": {
        "id": "VF8e6vherWdk"
      },
      "source": [
        "Download dataset"
      ]
    },
    {
      "cell_type": "code",
      "metadata": {
        "id": "jZYwoVr2ww5U",
        "outputId": "c700a2df-6cab-4dbe-bdf1-0b6329abb025",
        "colab": {
          "base_uri": "https://localhost:8080/",
          "height": 204
        }
      },
      "source": [
        "!wget https://s3.amazonaws.com/amazon-reviews-pds/tsv/amazon_reviews_us_Mobile_Electronics_v1_00.tsv.gz"
      ],
      "execution_count": 15,
      "outputs": [
        {
          "output_type": "stream",
          "text": [
            "--2020-10-08 14:53:27--  https://s3.amazonaws.com/amazon-reviews-pds/tsv/amazon_reviews_us_Mobile_Electronics_v1_00.tsv.gz\n",
            "Resolving s3.amazonaws.com (s3.amazonaws.com)... 52.216.184.93\n",
            "Connecting to s3.amazonaws.com (s3.amazonaws.com)|52.216.184.93|:443... connected.\n",
            "HTTP request sent, awaiting response... 200 OK\n",
            "Length: 22870508 (22M) [application/x-gzip]\n",
            "Saving to: ‘amazon_reviews_us_Mobile_Electronics_v1_00.tsv.gz.1’\n",
            "\n",
            "amazon_reviews_us_M 100%[===================>]  21.81M  33.0MB/s    in 0.7s    \n",
            "\n",
            "2020-10-08 14:53:28 (33.0 MB/s) - ‘amazon_reviews_us_Mobile_Electronics_v1_00.tsv.gz.1’ saved [22870508/22870508]\n",
            "\n"
          ],
          "name": "stdout"
        }
      ]
    },
    {
      "cell_type": "markdown",
      "metadata": {
        "id": "rZYZ_QGLrZ78"
      },
      "source": [
        "Open dataset and save as dataframe"
      ]
    },
    {
      "cell_type": "code",
      "metadata": {
        "id": "B_TvAz6Tqlno",
        "outputId": "40ce6c53-7a3f-48a5-8a30-a4f13d351bb6",
        "colab": {
          "base_uri": "https://localhost:8080/",
          "height": 581
        }
      },
      "source": [
        "import gzip\n",
        "with gzip.open('amazon_reviews_us_Mobile_Electronics_v1_00.tsv.gz') as f:\n",
        "    data = pd.read_csv(f, sep='\\t', error_bad_lines=False)\n",
        "\n",
        "data.head()"
      ],
      "execution_count": 16,
      "outputs": [
        {
          "output_type": "stream",
          "text": [
            "b'Skipping line 35246: expected 15 fields, saw 22\\n'\n",
            "b'Skipping line 87073: expected 15 fields, saw 22\\n'\n"
          ],
          "name": "stderr"
        },
        {
          "output_type": "execute_result",
          "data": {
            "text/html": [
              "<div>\n",
              "<style scoped>\n",
              "    .dataframe tbody tr th:only-of-type {\n",
              "        vertical-align: middle;\n",
              "    }\n",
              "\n",
              "    .dataframe tbody tr th {\n",
              "        vertical-align: top;\n",
              "    }\n",
              "\n",
              "    .dataframe thead th {\n",
              "        text-align: right;\n",
              "    }\n",
              "</style>\n",
              "<table border=\"1\" class=\"dataframe\">\n",
              "  <thead>\n",
              "    <tr style=\"text-align: right;\">\n",
              "      <th></th>\n",
              "      <th>marketplace</th>\n",
              "      <th>customer_id</th>\n",
              "      <th>review_id</th>\n",
              "      <th>product_id</th>\n",
              "      <th>product_parent</th>\n",
              "      <th>product_title</th>\n",
              "      <th>product_category</th>\n",
              "      <th>star_rating</th>\n",
              "      <th>helpful_votes</th>\n",
              "      <th>total_votes</th>\n",
              "      <th>vine</th>\n",
              "      <th>verified_purchase</th>\n",
              "      <th>review_headline</th>\n",
              "      <th>review_body</th>\n",
              "      <th>review_date</th>\n",
              "    </tr>\n",
              "  </thead>\n",
              "  <tbody>\n",
              "    <tr>\n",
              "      <th>0</th>\n",
              "      <td>US</td>\n",
              "      <td>20422322</td>\n",
              "      <td>R8MEA6IGAHO0B</td>\n",
              "      <td>B00MC4CED8</td>\n",
              "      <td>217304173</td>\n",
              "      <td>BlackVue DR600GW-PMP</td>\n",
              "      <td>Mobile_Electronics</td>\n",
              "      <td>5.0</td>\n",
              "      <td>0.0</td>\n",
              "      <td>0.0</td>\n",
              "      <td>N</td>\n",
              "      <td>Y</td>\n",
              "      <td>Very Happy!</td>\n",
              "      <td>As advertised. Everything works perfectly, I'm...</td>\n",
              "      <td>2015-08-31</td>\n",
              "    </tr>\n",
              "    <tr>\n",
              "      <th>1</th>\n",
              "      <td>US</td>\n",
              "      <td>40835037</td>\n",
              "      <td>R31LOQ8JGLPRLK</td>\n",
              "      <td>B00OQMFG1Q</td>\n",
              "      <td>137313254</td>\n",
              "      <td>GENSSI GSM / GPS Two Way Smart Phone Car Alarm...</td>\n",
              "      <td>Mobile_Electronics</td>\n",
              "      <td>5.0</td>\n",
              "      <td>0.0</td>\n",
              "      <td>1.0</td>\n",
              "      <td>N</td>\n",
              "      <td>Y</td>\n",
              "      <td>five star</td>\n",
              "      <td>it's great</td>\n",
              "      <td>2015-08-31</td>\n",
              "    </tr>\n",
              "    <tr>\n",
              "      <th>2</th>\n",
              "      <td>US</td>\n",
              "      <td>51469641</td>\n",
              "      <td>R2Y0MM9YE6OP3P</td>\n",
              "      <td>B00QERR5CY</td>\n",
              "      <td>82850235</td>\n",
              "      <td>iXCC Multi pack Lightning cable</td>\n",
              "      <td>Mobile_Electronics</td>\n",
              "      <td>5.0</td>\n",
              "      <td>0.0</td>\n",
              "      <td>0.0</td>\n",
              "      <td>N</td>\n",
              "      <td>Y</td>\n",
              "      <td>great cables</td>\n",
              "      <td>These work great and fit my life proof case fo...</td>\n",
              "      <td>2015-08-31</td>\n",
              "    </tr>\n",
              "    <tr>\n",
              "      <th>3</th>\n",
              "      <td>US</td>\n",
              "      <td>4332923</td>\n",
              "      <td>RRB9C05HDOD4O</td>\n",
              "      <td>B00QUFTPV4</td>\n",
              "      <td>221169481</td>\n",
              "      <td>abcGoodefg® FBI Covert Acoustic Tube Earpiece ...</td>\n",
              "      <td>Mobile_Electronics</td>\n",
              "      <td>4.0</td>\n",
              "      <td>0.0</td>\n",
              "      <td>0.0</td>\n",
              "      <td>N</td>\n",
              "      <td>Y</td>\n",
              "      <td>Work very well but couldn't get used to not he...</td>\n",
              "      <td>Work very well but couldn't get used to not he...</td>\n",
              "      <td>2015-08-31</td>\n",
              "    </tr>\n",
              "    <tr>\n",
              "      <th>4</th>\n",
              "      <td>US</td>\n",
              "      <td>44855305</td>\n",
              "      <td>R26I2RI1GFV8QG</td>\n",
              "      <td>B0067XVNTG</td>\n",
              "      <td>563475445</td>\n",
              "      <td>Generic Car Dashboard Video Camera Vehicle Vid...</td>\n",
              "      <td>Mobile_Electronics</td>\n",
              "      <td>2.0</td>\n",
              "      <td>0.0</td>\n",
              "      <td>0.0</td>\n",
              "      <td>N</td>\n",
              "      <td>Y</td>\n",
              "      <td>Cameras has battery issues</td>\n",
              "      <td>Be careful with these products, I have bought ...</td>\n",
              "      <td>2015-08-31</td>\n",
              "    </tr>\n",
              "  </tbody>\n",
              "</table>\n",
              "</div>"
            ],
            "text/plain": [
              "  marketplace  ...  review_date\n",
              "0          US  ...   2015-08-31\n",
              "1          US  ...   2015-08-31\n",
              "2          US  ...   2015-08-31\n",
              "3          US  ...   2015-08-31\n",
              "4          US  ...   2015-08-31\n",
              "\n",
              "[5 rows x 15 columns]"
            ]
          },
          "metadata": {
            "tags": []
          },
          "execution_count": 16
        }
      ]
    },
    {
      "cell_type": "markdown",
      "metadata": {
        "id": "LVTITEwgs1Aj"
      },
      "source": [
        "#### Data Preprocessing"
      ]
    },
    {
      "cell_type": "markdown",
      "metadata": {
        "id": "2rhmzEcHrf7M"
      },
      "source": [
        "Check info of dataset"
      ]
    },
    {
      "cell_type": "code",
      "metadata": {
        "id": "HpXF53i6qs_q",
        "outputId": "0259e448-e393-4db5-ce6a-fefe56314750",
        "colab": {
          "base_uri": "https://localhost:8080/",
          "height": 391
        }
      },
      "source": [
        "data.info()"
      ],
      "execution_count": 17,
      "outputs": [
        {
          "output_type": "stream",
          "text": [
            "<class 'pandas.core.frame.DataFrame'>\n",
            "RangeIndex: 104852 entries, 0 to 104851\n",
            "Data columns (total 15 columns):\n",
            " #   Column             Non-Null Count   Dtype  \n",
            "---  ------             --------------   -----  \n",
            " 0   marketplace        104852 non-null  object \n",
            " 1   customer_id        104852 non-null  int64  \n",
            " 2   review_id          104852 non-null  object \n",
            " 3   product_id         104852 non-null  object \n",
            " 4   product_parent     104852 non-null  int64  \n",
            " 5   product_title      104852 non-null  object \n",
            " 6   product_category   104852 non-null  object \n",
            " 7   star_rating        104850 non-null  float64\n",
            " 8   helpful_votes      104850 non-null  float64\n",
            " 9   total_votes        104850 non-null  float64\n",
            " 10  vine               104850 non-null  object \n",
            " 11  verified_purchase  104850 non-null  object \n",
            " 12  review_headline    104848 non-null  object \n",
            " 13  review_body        104849 non-null  object \n",
            " 14  review_date        104850 non-null  object \n",
            "dtypes: float64(3), int64(2), object(10)\n",
            "memory usage: 12.0+ MB\n"
          ],
          "name": "stdout"
        }
      ]
    },
    {
      "cell_type": "markdown",
      "metadata": {
        "id": "IJaMOT03riwN"
      },
      "source": [
        "Check shape of data"
      ]
    },
    {
      "cell_type": "code",
      "metadata": {
        "id": "in19HejDrvSs",
        "outputId": "e6b2abfc-c523-48b3-eaed-818341cfa9c1",
        "colab": {
          "base_uri": "https://localhost:8080/",
          "height": 34
        }
      },
      "source": [
        "data.shape"
      ],
      "execution_count": 18,
      "outputs": [
        {
          "output_type": "execute_result",
          "data": {
            "text/plain": [
              "(104852, 15)"
            ]
          },
          "metadata": {
            "tags": []
          },
          "execution_count": 18
        }
      ]
    },
    {
      "cell_type": "markdown",
      "metadata": {
        "id": "ltyCagLCr9kI"
      },
      "source": [
        "Describe the data"
      ]
    },
    {
      "cell_type": "code",
      "metadata": {
        "id": "wwiEpzJUrzOa",
        "outputId": "67a18f79-79f8-4e03-93d5-5ad2c604707f",
        "colab": {
          "base_uri": "https://localhost:8080/",
          "height": 297
        }
      },
      "source": [
        "data.describe()"
      ],
      "execution_count": 19,
      "outputs": [
        {
          "output_type": "execute_result",
          "data": {
            "text/html": [
              "<div>\n",
              "<style scoped>\n",
              "    .dataframe tbody tr th:only-of-type {\n",
              "        vertical-align: middle;\n",
              "    }\n",
              "\n",
              "    .dataframe tbody tr th {\n",
              "        vertical-align: top;\n",
              "    }\n",
              "\n",
              "    .dataframe thead th {\n",
              "        text-align: right;\n",
              "    }\n",
              "</style>\n",
              "<table border=\"1\" class=\"dataframe\">\n",
              "  <thead>\n",
              "    <tr style=\"text-align: right;\">\n",
              "      <th></th>\n",
              "      <th>customer_id</th>\n",
              "      <th>product_parent</th>\n",
              "      <th>star_rating</th>\n",
              "      <th>helpful_votes</th>\n",
              "      <th>total_votes</th>\n",
              "    </tr>\n",
              "  </thead>\n",
              "  <tbody>\n",
              "    <tr>\n",
              "      <th>count</th>\n",
              "      <td>1.048520e+05</td>\n",
              "      <td>1.048520e+05</td>\n",
              "      <td>104850.000000</td>\n",
              "      <td>104850.000000</td>\n",
              "      <td>104850.000000</td>\n",
              "    </tr>\n",
              "    <tr>\n",
              "      <th>mean</th>\n",
              "      <td>2.793783e+07</td>\n",
              "      <td>5.015196e+08</td>\n",
              "      <td>3.763176</td>\n",
              "      <td>1.243996</td>\n",
              "      <td>1.615393</td>\n",
              "    </tr>\n",
              "    <tr>\n",
              "      <th>std</th>\n",
              "      <td>1.508722e+07</td>\n",
              "      <td>2.871661e+08</td>\n",
              "      <td>1.523526</td>\n",
              "      <td>7.070387</td>\n",
              "      <td>7.909896</td>\n",
              "    </tr>\n",
              "    <tr>\n",
              "      <th>min</th>\n",
              "      <td>1.007100e+04</td>\n",
              "      <td>5.352400e+04</td>\n",
              "      <td>1.000000</td>\n",
              "      <td>0.000000</td>\n",
              "      <td>0.000000</td>\n",
              "    </tr>\n",
              "    <tr>\n",
              "      <th>25%</th>\n",
              "      <td>1.471402e+07</td>\n",
              "      <td>2.593731e+08</td>\n",
              "      <td>3.000000</td>\n",
              "      <td>0.000000</td>\n",
              "      <td>0.000000</td>\n",
              "    </tr>\n",
              "    <tr>\n",
              "      <th>50%</th>\n",
              "      <td>2.650357e+07</td>\n",
              "      <td>4.937289e+08</td>\n",
              "      <td>4.000000</td>\n",
              "      <td>0.000000</td>\n",
              "      <td>0.000000</td>\n",
              "    </tr>\n",
              "    <tr>\n",
              "      <th>75%</th>\n",
              "      <td>4.223551e+07</td>\n",
              "      <td>7.440083e+08</td>\n",
              "      <td>5.000000</td>\n",
              "      <td>1.000000</td>\n",
              "      <td>1.000000</td>\n",
              "    </tr>\n",
              "    <tr>\n",
              "      <th>max</th>\n",
              "      <td>5.309657e+07</td>\n",
              "      <td>9.999508e+08</td>\n",
              "      <td>5.000000</td>\n",
              "      <td>769.000000</td>\n",
              "      <td>791.000000</td>\n",
              "    </tr>\n",
              "  </tbody>\n",
              "</table>\n",
              "</div>"
            ],
            "text/plain": [
              "        customer_id  product_parent  ...  helpful_votes    total_votes\n",
              "count  1.048520e+05    1.048520e+05  ...  104850.000000  104850.000000\n",
              "mean   2.793783e+07    5.015196e+08  ...       1.243996       1.615393\n",
              "std    1.508722e+07    2.871661e+08  ...       7.070387       7.909896\n",
              "min    1.007100e+04    5.352400e+04  ...       0.000000       0.000000\n",
              "25%    1.471402e+07    2.593731e+08  ...       0.000000       0.000000\n",
              "50%    2.650357e+07    4.937289e+08  ...       0.000000       0.000000\n",
              "75%    4.223551e+07    7.440083e+08  ...       1.000000       1.000000\n",
              "max    5.309657e+07    9.999508e+08  ...     769.000000     791.000000\n",
              "\n",
              "[8 rows x 5 columns]"
            ]
          },
          "metadata": {
            "tags": []
          },
          "execution_count": 19
        }
      ]
    },
    {
      "cell_type": "markdown",
      "metadata": {
        "id": "kxxcLWkbsCOv"
      },
      "source": [
        "Convert type of columns star_rating, helpful_votes and total_votes from float to int"
      ]
    },
    {
      "cell_type": "code",
      "metadata": {
        "id": "lThFdeF3q4PB",
        "outputId": "99135e84-a85e-4a2a-f954-58dfbd4dc519",
        "colab": {
          "base_uri": "https://localhost:8080/",
          "height": 119
        }
      },
      "source": [
        "cols = ['star_rating','helpful_votes', 'total_votes']\n",
        "data[cols] = data[cols].astype('Int64')\n",
        "data['star_rating'].head()"
      ],
      "execution_count": 20,
      "outputs": [
        {
          "output_type": "execute_result",
          "data": {
            "text/plain": [
              "0    5\n",
              "1    5\n",
              "2    5\n",
              "3    4\n",
              "4    2\n",
              "Name: star_rating, dtype: Int64"
            ]
          },
          "metadata": {
            "tags": []
          },
          "execution_count": 20
        }
      ]
    },
    {
      "cell_type": "markdown",
      "metadata": {
        "id": "GTBS0uW4sQP5"
      },
      "source": [
        "Check null values"
      ]
    },
    {
      "cell_type": "code",
      "metadata": {
        "id": "t8AhWOCDrA1G",
        "outputId": "bb9d276f-f4df-4f1d-dd83-6b8f739c256a",
        "colab": {
          "base_uri": "https://localhost:8080/",
          "height": 289
        }
      },
      "source": [
        "data.isnull().sum()"
      ],
      "execution_count": 21,
      "outputs": [
        {
          "output_type": "execute_result",
          "data": {
            "text/plain": [
              "marketplace          0\n",
              "customer_id          0\n",
              "review_id            0\n",
              "product_id           0\n",
              "product_parent       0\n",
              "product_title        0\n",
              "product_category     0\n",
              "star_rating          2\n",
              "helpful_votes        2\n",
              "total_votes          2\n",
              "vine                 2\n",
              "verified_purchase    2\n",
              "review_headline      4\n",
              "review_body          3\n",
              "review_date          2\n",
              "dtype: int64"
            ]
          },
          "metadata": {
            "tags": []
          },
          "execution_count": 21
        }
      ]
    },
    {
      "cell_type": "markdown",
      "metadata": {
        "id": "Vl0hQkoEsTMe"
      },
      "source": [
        "Check where the values are null"
      ]
    },
    {
      "cell_type": "code",
      "metadata": {
        "id": "1gGCIysGrELq",
        "outputId": "9a8ed322-0dd6-4c84-947f-7be9f183280e",
        "colab": {
          "base_uri": "https://localhost:8080/",
          "height": 496
        }
      },
      "source": [
        "null_data = data[data.isnull().any(axis=1)]\n",
        "null_data"
      ],
      "execution_count": 22,
      "outputs": [
        {
          "output_type": "execute_result",
          "data": {
            "text/html": [
              "<div>\n",
              "<style scoped>\n",
              "    .dataframe tbody tr th:only-of-type {\n",
              "        vertical-align: middle;\n",
              "    }\n",
              "\n",
              "    .dataframe tbody tr th {\n",
              "        vertical-align: top;\n",
              "    }\n",
              "\n",
              "    .dataframe thead th {\n",
              "        text-align: right;\n",
              "    }\n",
              "</style>\n",
              "<table border=\"1\" class=\"dataframe\">\n",
              "  <thead>\n",
              "    <tr style=\"text-align: right;\">\n",
              "      <th></th>\n",
              "      <th>marketplace</th>\n",
              "      <th>customer_id</th>\n",
              "      <th>review_id</th>\n",
              "      <th>product_id</th>\n",
              "      <th>product_parent</th>\n",
              "      <th>product_title</th>\n",
              "      <th>product_category</th>\n",
              "      <th>star_rating</th>\n",
              "      <th>helpful_votes</th>\n",
              "      <th>total_votes</th>\n",
              "      <th>vine</th>\n",
              "      <th>verified_purchase</th>\n",
              "      <th>review_headline</th>\n",
              "      <th>review_body</th>\n",
              "      <th>review_date</th>\n",
              "    </tr>\n",
              "  </thead>\n",
              "  <tbody>\n",
              "    <tr>\n",
              "      <th>20969</th>\n",
              "      <td>US</td>\n",
              "      <td>16892694</td>\n",
              "      <td>R1M2HPGTLTOBZF</td>\n",
              "      <td>B000OFNQXE</td>\n",
              "      <td>139730060</td>\n",
              "      <td>Performance Teknique -- Performance Teknique I...</td>\n",
              "      <td>Mobile_Electronics</td>\n",
              "      <td>5</td>\n",
              "      <td>0</td>\n",
              "      <td>0</td>\n",
              "      <td>N</td>\n",
              "      <td>N</td>\n",
              "      <td>Five Stars</td>\n",
              "      <td>NaN</td>\n",
              "      <td>2014-11-11</td>\n",
              "    </tr>\n",
              "    <tr>\n",
              "      <th>60183</th>\n",
              "      <td>US</td>\n",
              "      <td>33678324</td>\n",
              "      <td>R31BF4G9M6MJYE</td>\n",
              "      <td>B0091VOOPQ</td>\n",
              "      <td>196563098</td>\n",
              "      <td>Ultimate Arms Gear Tactical Combo Combination ...</td>\n",
              "      <td>2013-02-01</td>\n",
              "      <td>&lt;NA&gt;</td>\n",
              "      <td>&lt;NA&gt;</td>\n",
              "      <td>&lt;NA&gt;</td>\n",
              "      <td>NaN</td>\n",
              "      <td>NaN</td>\n",
              "      <td>NaN</td>\n",
              "      <td>NaN</td>\n",
              "      <td>NaN</td>\n",
              "    </tr>\n",
              "    <tr>\n",
              "      <th>62888</th>\n",
              "      <td>US</td>\n",
              "      <td>47816860</td>\n",
              "      <td>R2RCYG6GRJ75UT</td>\n",
              "      <td>B0091VOOPQ</td>\n",
              "      <td>196563098</td>\n",
              "      <td>Ultimate Arms Gear Tactical Combo Combination ...</td>\n",
              "      <td>2013-01-06</td>\n",
              "      <td>&lt;NA&gt;</td>\n",
              "      <td>&lt;NA&gt;</td>\n",
              "      <td>&lt;NA&gt;</td>\n",
              "      <td>NaN</td>\n",
              "      <td>NaN</td>\n",
              "      <td>NaN</td>\n",
              "      <td>NaN</td>\n",
              "      <td>NaN</td>\n",
              "    </tr>\n",
              "    <tr>\n",
              "      <th>66724</th>\n",
              "      <td>US</td>\n",
              "      <td>48437078</td>\n",
              "      <td>R392344S6XTCNF</td>\n",
              "      <td>B0052RMI2Y</td>\n",
              "      <td>423996186</td>\n",
              "      <td>USB Power Wall Charger + Syn Data Cable for Ap...</td>\n",
              "      <td>Mobile_Electronics</td>\n",
              "      <td>5</td>\n",
              "      <td>0</td>\n",
              "      <td>0</td>\n",
              "      <td>N</td>\n",
              "      <td>Y</td>\n",
              "      <td>NaN</td>\n",
              "      <td>met standards of criteria. #1 product for the ...</td>\n",
              "      <td>2012-11-24</td>\n",
              "    </tr>\n",
              "    <tr>\n",
              "      <th>69533</th>\n",
              "      <td>US</td>\n",
              "      <td>48109029</td>\n",
              "      <td>R2YV0N3E97QR8H</td>\n",
              "      <td>B005HBSF68</td>\n",
              "      <td>455218203</td>\n",
              "      <td>Brand DW-D1000B Car 10-Inch Hd LCD TFT Stand A...</td>\n",
              "      <td>Mobile_Electronics</td>\n",
              "      <td>3</td>\n",
              "      <td>0</td>\n",
              "      <td>0</td>\n",
              "      <td>N</td>\n",
              "      <td>Y</td>\n",
              "      <td>NaN</td>\n",
              "      <td>You get what you pay for. Construction quality...</td>\n",
              "      <td>2012-09-05</td>\n",
              "    </tr>\n",
              "  </tbody>\n",
              "</table>\n",
              "</div>"
            ],
            "text/plain": [
              "      marketplace  ...  review_date\n",
              "20969          US  ...   2014-11-11\n",
              "60183          US  ...          NaN\n",
              "62888          US  ...          NaN\n",
              "66724          US  ...   2012-11-24\n",
              "69533          US  ...   2012-09-05\n",
              "\n",
              "[5 rows x 15 columns]"
            ]
          },
          "metadata": {
            "tags": []
          },
          "execution_count": 22
        }
      ]
    },
    {
      "cell_type": "markdown",
      "metadata": {
        "id": "MI12c-jEsXdm"
      },
      "source": [
        "We can see two rows with ids 60183 and 62888 have no values important for prediction. We can remove those values"
      ]
    }
  ]
}