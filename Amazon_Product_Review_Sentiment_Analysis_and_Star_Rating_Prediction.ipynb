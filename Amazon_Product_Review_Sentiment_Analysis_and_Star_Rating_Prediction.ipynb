{
  "nbformat": 4,
  "nbformat_minor": 0,
  "metadata": {
    "colab": {
      "name": "Amazon Product Review: Sentiment Analysis and Star Rating Prediction.ipynb",
      "provenance": [],
      "authorship_tag": "ABX9TyOGRCO2PRlbTSSp3Oee1jWr",
      "include_colab_link": true
    },
    "kernelspec": {
      "name": "python3",
      "display_name": "Python 3"
    }
  },
  "cells": [
    {
      "cell_type": "markdown",
      "metadata": {
        "id": "view-in-github",
        "colab_type": "text"
      },
      "source": [
        "<a href=\"https://colab.research.google.com/github/SureshTakasi/DATA602-ML-UMBC/blob/main/Amazon_Product_Review_Sentiment_Analysis_and_Star_Rating_Prediction.ipynb\" target=\"_parent\"><img src=\"https://colab.research.google.com/assets/colab-badge.svg\" alt=\"Open In Colab\"/></a>"
      ]
    },
    {
      "cell_type": "code",
      "metadata": {
        "id": "WI35Gkz4ydxv"
      },
      "source": [
        "import pandas as pd\n",
        "import matplotlib.pyplot as plt\n",
        "import numpy as np"
      ],
      "execution_count": null,
      "outputs": []
    }
  ]
}